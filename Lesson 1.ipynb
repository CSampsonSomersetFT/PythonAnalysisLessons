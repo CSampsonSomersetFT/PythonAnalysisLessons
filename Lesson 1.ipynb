{
 "cells": [
  {
   "cell_type": "markdown",
   "metadata": {},
   "source": [
    "# Lesson 1"
   ]
  },
  {
   "cell_type": "markdown",
   "metadata": {},
   "source": [
    "Welcome to jupyter notebooks, where you can easily combine text, equations, code and graphs all in one convenient place.\n",
    "\n",
    "If you've installed this using the Anaconda distribution, congratulations! You already have most of the python modules you need.\n",
    "\n",
    "So, to the basics. Each 'box' on this page can be set to either \"Markdown\" or \"Code\" in the box above. Markdown is used for text, such as this box. Code is used for... well, code. To run a box, click on it and either press run (above) or press shift+enter.\n",
    "\n",
    "Try it below, we'll set a variable \"x\" to 3."
   ]
  },
  {
   "cell_type": "code",
   "execution_count": null,
   "metadata": {},
   "outputs": [],
   "source": [
    "x = 3"
   ]
  },
  {
   "cell_type": "markdown",
   "metadata": {},
   "source": [
    "### Variables"
   ]
  },
  {
   "cell_type": "markdown",
   "metadata": {},
   "source": [
    "Let's check that x is indeed 3, run the code below and you should see the output below the box."
   ]
  },
  {
   "cell_type": "code",
   "execution_count": null,
   "metadata": {},
   "outputs": [],
   "source": [
    "x"
   ]
  },
  {
   "cell_type": "markdown",
   "metadata": {},
   "source": [
    "If 3 is displayed above, everything's good!\n",
    "\n",
    "So what is a variable and why do we use them?\n",
    "\n",
    "Variables are used to store objects, and everything in python is an object. Python is a strongly typed, dynamic language to use the corect terminology. This means that an object won't change it's type in strange ways, but you do not need to specify it's type at the time of declaration.\n",
    "\n",
    "Let's examine our declaration above, x = 3. We are storing our integer in a variable named x, we can then access x at any point in the code to use this value in our calculations.\n",
    "\n",
    "Below, we'll use x in a few calculations and print the results to the screen."
   ]
  },
  {
   "cell_type": "code",
   "execution_count": null,
   "metadata": {},
   "outputs": [],
   "source": [
    "#This is a comment\n",
    "#We can use comments to explain why we do something\n",
    "\n",
    "#e.g. Set y to a number to test the mathematics below\n",
    "y = 2\n",
    "\n",
    "print(x*y)\n",
    "print(x**y)\n",
    "print(x/y)\n",
    "print(x%y)\n",
    "print(x+y)\n",
    "print(x-y)\n",
    "print(x==y)"
   ]
  },
  {
   "cell_type": "markdown",
   "metadata": {},
   "source": [
    "There are a couple of points to make from the above code.\n",
    "\n",
    "First, comments. Comments should only really be used whenyou're explaining why you've done something a little strange in the code. However, your variable names should explain exactly what each variable will be representing. With this knowledge, do you think the above variable names and comments are useful?"
   ]
  },
  {
   "cell_type": "markdown",
   "metadata": {},
   "source": [
    "## Mathematic Operations"
   ]
  },
  {
   "cell_type": "markdown",
   "metadata": {},
   "source": [
    "The second point we need to address are the operation used above, \\*, \\*\\*, /, %, +, - and ==.\n",
    "\n",
    "- \\* multiplies 2 numbers together.\n",
    "- \\** raises the first number to the power of the second.\n",
    "- / divides the first number by the second.\n",
    "- % returns the result of a modulo operation, dividing the first by the second and returning the remainder.\n",
    "- \\+ adds 2 numbers.\n",
    "- \\- subtracts the second number from the first.\n",
    "- == compares the 2 numbers, if they're equal it returns True, otherwise it returns False."
   ]
  },
  {
   "cell_type": "markdown",
   "metadata": {},
   "source": [
    "## Functions"
   ]
  },
  {
   "cell_type": "markdown",
   "metadata": {},
   "source": [
    "Now we can set numbers to variables and do all sorts of mathematical operations on them. So what. If we want to run 1,000,000 calculations, we don't want to have to type out our code for every step, or we'd be here forever!\n",
    "\n",
    "So we break our code down into dynamic sections that we can call again and again with different inputs, in Python, we call these functions. When I code, I like to think of it as building something out of lego, each funtion represents a different type of brick, you want the bricks to be general enough that they can be used again and again, but not so general that they require heavy modification to fit your purpose.\n",
    "\n",
    "Lets make a function below that will return the product of 2 numbers."
   ]
  },
  {
   "cell_type": "code",
   "execution_count": null,
   "metadata": {},
   "outputs": [],
   "source": [
    "def multiply2NumbersTogether(number1, number2):\n",
    "    \"\"\"Returns the product of number1 and number2\"\"\"\n",
    "    return number1*number2"
   ]
  },
  {
   "cell_type": "markdown",
   "metadata": {},
   "source": [
    "We'll go through the code above in a second, for now, play around with it, we can call it by using the code below"
   ]
  },
  {
   "cell_type": "code",
   "execution_count": null,
   "metadata": {},
   "outputs": [],
   "source": [
    "multiply2NumbersTogether(2, 3)"
   ]
  },
  {
   "cell_type": "markdown",
   "metadata": {},
   "source": [
    "Try to:\n",
    "- Change the above numbers\n",
    "- Declare some variables and using them as an input\n",
    "- Use fractions as inputs\n",
    "- Use negative numbers\n",
    "\n",
    "When you're finished playing, try to change the funtion to return a different mathematical operation (you may want to change the function name too!)"
   ]
  },
  {
   "cell_type": "markdown",
   "metadata": {},
   "source": [
    "The sections of the function above are as follows:\n",
    "\n",
    "- def - defines a function\n",
    "- multiply2NumbersTogether - is the name of our function\n",
    "- (number1, number2) - these specify the inputs, we could have more (number1, number2, number3) or less (number1) or none ().\n",
    "- \"\"\"Returns the product of number1 and number2\"\"\" This is the docstring for the function, this should explain how to use the function and can be accessed externally by calling help(nameOfFunction)\n",
    "- The code should come next, but we save space and put it on the same line as our return statement\n",
    "- return number1\\*number2 this is what the function actually feeds back into our code, in this case we multiply the 2 numbers together"
   ]
  },
  {
   "cell_type": "markdown",
   "metadata": {},
   "source": [
    "## Task"
   ]
  },
  {
   "cell_type": "markdown",
   "metadata": {},
   "source": [
    "Create a function that can take in any 2 numbers and returns the result of a modulo operation."
   ]
  },
  {
   "cell_type": "code",
   "execution_count": null,
   "metadata": {},
   "outputs": [],
   "source": []
  }
 ],
 "metadata": {
  "kernelspec": {
   "display_name": "Python 3",
   "language": "python",
   "name": "python3"
  },
  "language_info": {
   "codemirror_mode": {
    "name": "ipython",
    "version": 3
   },
   "file_extension": ".py",
   "mimetype": "text/x-python",
   "name": "python",
   "nbconvert_exporter": "python",
   "pygments_lexer": "ipython3",
   "version": "3.6.4"
  }
 },
 "nbformat": 4,
 "nbformat_minor": 2
}
